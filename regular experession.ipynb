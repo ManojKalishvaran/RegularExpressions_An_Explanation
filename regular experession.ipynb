{
 "cells": [
  {
   "cell_type": "markdown",
   "id": "68ec233e",
   "metadata": {},
   "source": [
    "# findall()"
   ]
  },
  {
   "cell_type": "code",
   "execution_count": 1,
   "id": "fcd0bb1f",
   "metadata": {},
   "outputs": [
    {
     "name": "stdout",
     "output_type": "stream",
     "text": [
      "['manoj', 'manoj', '7', '7', '7', '7', '7', '7']\n",
      "2\n",
      "6\n"
     ]
    }
   ],
   "source": [
    "#to find occurence and return the value by  the frequency using \n",
    "\n",
    "import re\n",
    "\n",
    "data_= \"manoj123manoj456.indu79t$%^&.hamarai987kali.7777\"\n",
    "\n",
    "matches= re.findall(r\"manoj\",data_)\n",
    "matches__= re.findall(r\"7\",data_)\n",
    "matches_= list(matches)\n",
    "mat1=list(matches_)+list(matches__)\n",
    "emp_=[]\n",
    "print(mat1)\n",
    "for i in mat1:\n",
    "    if i not in emp_ and mat1.count(i)>1:\n",
    "        emp_.append(i)\n",
    "        print(mat1.count(i))\n",
    "        "
   ]
  },
  {
   "cell_type": "markdown",
   "id": "451f8044",
   "metadata": {},
   "source": [
    "# finditer()"
   ]
  },
  {
   "cell_type": "code",
   "execution_count": 2,
   "id": "1f0be1a1",
   "metadata": {},
   "outputs": [
    {
     "name": "stdout",
     "output_type": "stream",
     "text": [
      "<re.Match object; span=(0, 5), match='manoj'>\n",
      "<re.Match object; span=(8, 13), match='manoj'>\n"
     ]
    }
   ],
   "source": [
    "#to find occurence and return the location\n",
    "\n",
    "import re\n",
    "\n",
    "data_= \"manoj123manoj456indu79thamarai987kali7777\"\n",
    "\n",
    "matches= re.finditer(r\"manoj\",data_)\n",
    "for i in matches:\n",
    "    print(i)"
   ]
  },
  {
   "cell_type": "markdown",
   "id": "24388dfb",
   "metadata": {},
   "source": [
    "# match()"
   ]
  },
  {
   "cell_type": "code",
   "execution_count": 3,
   "id": "fab1f01e",
   "metadata": {},
   "outputs": [
    {
     "name": "stdout",
     "output_type": "stream",
     "text": [
      "inner : None\n",
      "begning : <re.Match object; span=(0, 5), match='manoj'>\n"
     ]
    }
   ],
   "source": [
    "#to find the value at the begning\n",
    "match_inner=re.match(r\"ama\",data_)\n",
    "match_begning=re.match(r\"manoj\",data_)\n",
    "\n",
    "print(\"inner :\",match_inner)\n",
    "print(\"begning :\",match_begning)"
   ]
  },
  {
   "cell_type": "markdown",
   "id": "b2422625",
   "metadata": {},
   "source": [
    "# search()"
   ]
  },
  {
   "cell_type": "code",
   "execution_count": 4,
   "id": "84c10cc3",
   "metadata": {},
   "outputs": [
    {
     "name": "stdout",
     "output_type": "stream",
     "text": [
      "search : <re.Match object; span=(0, 5), match='manoj'>\n"
     ]
    }
   ],
   "source": [
    "#only returns the first match in whole text\n",
    "\n",
    "match_sear=re.search(r\"manoj\",data_)\n",
    "\n",
    "print(\"search :\",match_sear)\n",
    "\n"
   ]
  },
  {
   "cell_type": "code",
   "execution_count": 5,
   "id": "27257504",
   "metadata": {},
   "outputs": [
    {
     "name": "stdout",
     "output_type": "stream",
     "text": [
      "<re.Match object; span=(0, 1), match='m'>\n",
      "<re.Match object; span=(1, 2), match='a'>\n",
      "<re.Match object; span=(2, 3), match='n'>\n",
      "<re.Match object; span=(3, 4), match='o'>\n",
      "<re.Match object; span=(4, 5), match='j'>\n",
      "<re.Match object; span=(5, 6), match='1'>\n",
      "<re.Match object; span=(6, 7), match='2'>\n",
      "<re.Match object; span=(7, 8), match='3'>\n",
      "<re.Match object; span=(8, 9), match='m'>\n",
      "<re.Match object; span=(9, 10), match='a'>\n",
      "<re.Match object; span=(10, 11), match='n'>\n",
      "<re.Match object; span=(11, 12), match='o'>\n",
      "<re.Match object; span=(12, 13), match='j'>\n",
      "<re.Match object; span=(13, 14), match='4'>\n",
      "<re.Match object; span=(14, 15), match='5'>\n",
      "<re.Match object; span=(15, 16), match='6'>\n",
      "<re.Match object; span=(16, 17), match='i'>\n",
      "<re.Match object; span=(17, 18), match='n'>\n",
      "<re.Match object; span=(18, 19), match='d'>\n",
      "<re.Match object; span=(19, 20), match='u'>\n",
      "<re.Match object; span=(20, 21), match='7'>\n",
      "<re.Match object; span=(21, 22), match='9'>\n",
      "<re.Match object; span=(22, 23), match='t'>\n",
      "<re.Match object; span=(23, 24), match='h'>\n",
      "<re.Match object; span=(24, 25), match='a'>\n",
      "<re.Match object; span=(25, 26), match='m'>\n",
      "<re.Match object; span=(26, 27), match='a'>\n",
      "<re.Match object; span=(27, 28), match='r'>\n",
      "<re.Match object; span=(28, 29), match='a'>\n",
      "<re.Match object; span=(29, 30), match='i'>\n",
      "<re.Match object; span=(30, 31), match='9'>\n",
      "<re.Match object; span=(31, 32), match='8'>\n",
      "<re.Match object; span=(32, 33), match='7'>\n",
      "<re.Match object; span=(33, 34), match='k'>\n",
      "<re.Match object; span=(34, 35), match='a'>\n",
      "<re.Match object; span=(35, 36), match='l'>\n",
      "<re.Match object; span=(36, 37), match='i'>\n",
      "<re.Match object; span=(37, 38), match='7'>\n",
      "<re.Match object; span=(38, 39), match='7'>\n",
      "<re.Match object; span=(39, 40), match='7'>\n",
      "<re.Match object; span=(40, 41), match='7'>\n"
     ]
    }
   ],
   "source": [
    "match_=re.finditer(r\".\",data_)#matches every character\n",
    "for i in match_:\n",
    "    print(i)\n",
    "    \n",
    "    \n",
    "pattern=re.compile(r\"\\.\")\n",
    "match_=pattern.finditer(data_)#matches only \".\"\n",
    "for i in match_:\n",
    "    print(i)"
   ]
  },
  {
   "cell_type": "markdown",
   "id": "4837e381",
   "metadata": {},
   "source": [
    "# video2\n"
   ]
  },
  {
   "cell_type": "code",
   "execution_count": 6,
   "id": "c0c6e2fc",
   "metadata": {},
   "outputs": [
    {
     "name": "stdout",
     "output_type": "stream",
     "text": [
      "<re.Match object; span=(0, 5), match='Start'>\n"
     ]
    }
   ],
   "source": [
    "import re\n",
    "\n",
    "text_to_search = '''\n",
    "abcdefghijklmnopqurtuvwxyz\n",
    "ABCDEFGHIJKLMNOPQRSTUVWXYZ\n",
    "1234567890\n",
    "\n",
    "Ha HaHa\n",
    "\n",
    "MetaCharacters (Need to be escaped):\n",
    ". ^ $ * + ? { } [ ] \\ | ( )\n",
    "\n",
    "coreyms.com\n",
    "\n",
    "321-555-4321\n",
    "123.555.1234\n",
    "123*555*1234\n",
    "800-555-1234\n",
    "900-555-1234\n",
    "\n",
    "Mr. Schafer\n",
    "Mr Smith\n",
    "Ms Davis\n",
    "Mrs. Robinson\n",
    "Mr. T\n",
    "Mis. K\n",
    "\n",
    "Cat \n",
    "Mat \n",
    "Pat\n",
    "\n",
    "'''\n",
    "\n",
    "sentence = 'Start a sentence and then bring it to an end'\n",
    "\n",
    "pattern = re.compile(r'start', re.I)\n",
    "\n",
    "matches = pattern.search(sentence)\n",
    "\n",
    "print(matches)"
   ]
  },
  {
   "cell_type": "code",
   "execution_count": 7,
   "id": "d8f35ee1",
   "metadata": {},
   "outputs": [
    {
     "name": "stdout",
     "output_type": "stream",
     "text": [
      "<re.Match object; span=(251, 264), match='Mrs. Robinson'>\n"
     ]
    }
   ],
   "source": [
    "pattern=re.compile(r\"Mrs\\. Robinson\")# meta characters=>&%$#@ (to exc use \\ before)\n",
    "\n",
    "match_=pattern.finditer(text_to_search)#matches only \".\"   \n",
    "for i in match_:\n",
    "    print(i)"
   ]
  },
  {
   "cell_type": "markdown",
   "id": "7c4801cd",
   "metadata": {},
   "source": [
    "# \\B and \\b"
   ]
  },
  {
   "cell_type": "code",
   "execution_count": 8,
   "id": "ae4c6abf",
   "metadata": {},
   "outputs": [
    {
     "name": "stdout",
     "output_type": "stream",
     "text": [
      "<re.Match object; span=(67, 69), match='Ha'>\n",
      "<re.Match object; span=(70, 72), match='Ha'>\n",
      "\\B                              : <re.Match object; span=(72, 74), match='Ha'>\n"
     ]
    }
   ],
   "source": [
    "pattern=re.compile(r\"\\bHa\")# matches word boundary in which no characters after Ha\n",
    "\n",
    "match_=pattern.finditer(text_to_search)#matches only \".\"   \n",
    "for i in match_:\n",
    "    print(i)\n",
    "\"_______________________________________________________________________________________________________________\"\n",
    "\n",
    "pattern=re.compile(r\"\\BHa\")# matches not word boundary in which characters after Ha\n",
    "\n",
    "match_=pattern.finditer(text_to_search)#matches only \".\"   \n",
    "for i in match_:\n",
    "    print(\"\\B                              :\",i)"
   ]
  },
  {
   "cell_type": "markdown",
   "id": "35865a7a",
   "metadata": {},
   "source": [
    "# to match phone numbers like 111-222-333"
   ]
  },
  {
   "cell_type": "code",
   "execution_count": 9,
   "id": "6af2626b",
   "metadata": {},
   "outputs": [
    {
     "name": "stdout",
     "output_type": "stream",
     "text": [
      "either 800 or 900 : <re.Match object; span=(194, 206), match='800-555-1234'>\n",
      "either 800 or 900 : <re.Match object; span=(207, 219), match='900-555-1234'>\n"
     ]
    }
   ],
   "source": [
    "pattern=re.compile(r\"\\d\\d\\d.\\d\\d\\d.\\d\\d\\d\\d\")#use \".\" to find either - or * or . \n",
    "\n",
    "match_=pattern.finditer(text_to_search)#matches only \".\"   \n",
    "#for i in match_:\n",
    "   # print(\"\\B                              :\",i)\n",
    "    \n",
    "\n",
    "#to match specific\n",
    "pattern=re.compile(r\"\\d\\d\\d[.-]\\d\\d\\d[.-]\\d\\d\\d\\d\")\n",
    "match_=pattern.finditer(text_to_search)#matches only \".\"   \n",
    "#for i in match_:\n",
    "  #  print(\"ph no having either - or .:\",i)\n",
    "    \n",
    "    \n",
    "#to match either numbers\n",
    "pattern=re.compile(r\"[89]00[.-]\\d\\d\\d[.-]\\d\\d\\d\\d\")  #[] character set\n",
    "match_=pattern.finditer(text_to_search)#matches only \".\"   \n",
    "for i in match_:\n",
    "    print(\"either 800 or 900 :\",i)\n",
    "    \n"
   ]
  },
  {
   "cell_type": "markdown",
   "id": "fe5fb8d1",
   "metadata": {},
   "source": [
    "# to match chars b/w to characteres"
   ]
  },
  {
   "cell_type": "code",
   "execution_count": 10,
   "id": "afa1548b",
   "metadata": {},
   "outputs": [],
   "source": [
    "pattern=re.compile(r'[2-4]')  #[] character set\n",
    "match_=pattern.finditer(text_to_search)#matches only \".\"   \n",
    "#for i in match_:\n",
    "   # print(\"2 to 8: -----\",i)\n",
    "    \n",
    "#to print b/w to chars\n",
    "pattern=re.compile(r'[A-Za-z0-9]')  \n",
    "match_=pattern.finditer(text_to_search)\n",
    "#for i in match_:\n",
    "    #print(\" -----\",i)\n",
    "    \n",
    "\n",
    "#use ^ to exclude to char\n",
    "pattern=re.compile(r'[^A-Za-z0-9]')  \n",
    "match_=pattern.finditer(data_)\n",
    "for i in match_:\n",
    "    print(\" -----\",i)"
   ]
  },
  {
   "cell_type": "code",
   "execution_count": 11,
   "id": "b60c1aba",
   "metadata": {},
   "outputs": [
    {
     "name": "stdout",
     "output_type": "stream",
     "text": [
      "<re.Match object; span=(279, 282), match='Cat'>\n",
      "<re.Match object; span=(284, 287), match='Mat'>\n",
      "<re.Match object; span=(289, 292), match='Pat'>\n"
     ]
    }
   ],
   "source": [
    "#write re to find the words end with at not begain with B\n",
    "\n",
    "pattern= re.compile(r\"[^B]at\")\n",
    "matches = pattern.finditer(text_to_search)\n",
    "for i in matches:\n",
    "    print(i)"
   ]
  },
  {
   "cell_type": "markdown",
   "id": "197a57ee",
   "metadata": {},
   "source": [
    "# to find using amount of num"
   ]
  },
  {
   "cell_type": "code",
   "execution_count": 12,
   "id": "4e842fc0",
   "metadata": {},
   "outputs": [
    {
     "name": "stdout",
     "output_type": "stream",
     "text": [
      "<re.Match object; span=(155, 167), match='321-555-4321'>\n",
      "<re.Match object; span=(168, 180), match='123.555.1234'>\n",
      "<re.Match object; span=(181, 193), match='123*555*1234'>\n",
      "<re.Match object; span=(194, 206), match='800-555-1234'>\n",
      "<re.Match object; span=(207, 219), match='900-555-1234'>\n"
     ]
    }
   ],
   "source": [
    "#write re to find the words end with at not begain with B\n",
    "\n",
    "pattern= re.compile(r\"\\d{3}.\\d{3}.\\d{4}\")\n",
    "matches = pattern.finditer(text_to_search)\n",
    "for i in matches:\n",
    "    print(i)"
   ]
  },
  {
   "cell_type": "markdown",
   "id": "278fae47",
   "metadata": {},
   "source": [
    "# to find either or use ? as the quantifier"
   ]
  },
  {
   "cell_type": "code",
   "execution_count": 13,
   "id": "cd6e4408",
   "metadata": {},
   "outputs": [
    {
     "name": "stdout",
     "output_type": "stream",
     "text": [
      "<re.Match object; span=(221, 232), match='Mr. Schafer'>\n",
      "<re.Match object; span=(233, 241), match='Mr Smith'>\n",
      "<re.Match object; span=(221, 232), match='Mr. Schafer'>\n",
      "<re.Match object; span=(233, 241), match='Mr Smith'>\n",
      "<re.Match object; span=(265, 270), match='Mr. T'>\n",
      "<re.Match object; span=(221, 232), match='Mr. Schafer'>\n",
      "<re.Match object; span=(233, 241), match='Mr Smith'>\n",
      "<re.Match object; span=(242, 250), match='Ms Davis'>\n",
      "<re.Match object; span=(251, 264), match='Mrs. Robinson'>\n",
      "<re.Match object; span=(265, 270), match='Mr. T'>\n",
      "<re.Match object; span=(271, 277), match='Mis. K'>\n"
     ]
    }
   ],
   "source": [
    "#write re to find the words end with at not begain with B\n",
    "\n",
    "pattern= re.compile(r\"Mr\\.?\\s[A-Z]\\w+\") #use \\w+ to be any characters after a specific one but doesnt match if there is none after the before for that use *\n",
    "matches = pattern.finditer(text_to_search)\n",
    "for i in matches:\n",
    "    print(i)\n",
    "    \n",
    "'''\n",
    "*   - 0 or more\n",
    "+   -1 or more\n",
    "?   -0 or 1\n",
    "{}   -count of char\n",
    "{num1,num2}   - range\n",
    "|           - either or\n",
    "\n",
    "'''\n",
    "    \n",
    "    \n",
    "pattern= re.compile(r\"Mr\\.?\\s[A-Z]\\w*\") ##? means or\n",
    "matches = pattern.finditer(text_to_search)\n",
    "for i in matches:\n",
    "    print(i)\n",
    "    \n",
    "\n",
    "pattern= re.compile(r\"M(r|s|rs|is)\\.?\\s[A-Z]\\w*\") #Grouping\n",
    "matches = pattern.finditer(text_to_search)\n",
    "for i in matches:\n",
    "    print(i)"
   ]
  },
  {
   "cell_type": "markdown",
   "id": "03b2d0e2",
   "metadata": {},
   "source": [
    "# work on emails"
   ]
  },
  {
   "cell_type": "code",
   "execution_count": 50,
   "id": "0d920ca9",
   "metadata": {},
   "outputs": [
    {
     "name": "stdout",
     "output_type": "stream",
     "text": [
      "<re.Match object; span=(1, 24), match='CoreyMSchafer@gmail.com'>\n",
      "\n",
      "\n",
      "\n",
      "\n",
      "CoreyMSchafer@gmail.com\n",
      "corey.schafer@university.edu\n",
      "corey-321-schafer@my-work.net\n"
     ]
    }
   ],
   "source": [
    "emails = '''\n",
    "CoreyMSchafer@gmail.com\n",
    "corey.schafer@university.edu\n",
    "corey-321-schafer@my-work.net\n",
    "'''\n",
    "\n",
    "pattern= re.compile(r\"[A-Za-z]+@+[a-z]+\\.+com\")#to match first email\n",
    "matches= pattern.finditer(emails)\n",
    "\n",
    "for i in matches:\n",
    "    print(i)\n",
    "    \n",
    "#to match 2nd and first\n",
    "    \n",
    "pattern= re.compile(r\"[a-zA-Z.]+@[a-zA-Z]+\\.(com|edu)\")\n",
    "matches= pattern.finditer(emails)\n",
    "\n",
    "for i in matches:\n",
    "    print()\n",
    "\n",
    "#to match 3rd\n",
    " \n",
    "pattern= re.compile(r\"[a-zA-Z0-9.-]+@[a-zA-Z\\-]+\\.(com|edu)\")\n",
    "matches= pattern.finditer(emails)\n",
    "\n",
    "for i in matches:\n",
    "    print()\n",
    "\n",
    "#to match all\n",
    "\n",
    "pattern= re.compile(r\"[A-Za-z0-9\\.-]+@[a-z-]+\\.(com|edu|net)\") #+ is used to match one or more characters in the character set\n",
    "matches= pattern.finditer(emails)\n",
    "\n",
    "for i in matches:\n",
    "    print(i.group(0))"
   ]
  },
  {
   "cell_type": "markdown",
   "id": "ec7887f2",
   "metadata": {},
   "source": [
    "# Group 0 is the entire result "
   ]
  },
  {
   "cell_type": "markdown",
   "id": "53088d75",
   "metadata": {},
   "source": [
    "# Urls"
   ]
  },
  {
   "cell_type": "code",
   "execution_count": 58,
   "id": "4be25f14",
   "metadata": {},
   "outputs": [
    {
     "name": "stdout",
     "output_type": "stream",
     "text": [
      "group0     : https://www.google.com\n",
      "group0     : http://coreyms.com\n",
      "group0     : https://youtube.com\n",
      "group0     : https://www.nasa.gov\n",
      "group1     : ('www.', 'com')\n",
      "group1     : (None, 'com')\n",
      "group1     : (None, 'com')\n",
      "group1     : ('www.', 'gov')\n"
     ]
    }
   ],
   "source": [
    "\n",
    "urls = '''\n",
    "https://www.google.com\n",
    "http://coreyms.com\n",
    "https://youtube.com\n",
    "https://www.nasa.gov\n",
    "'''\n",
    "\n",
    "pattern= re.compile(r\"https?:+//(www\\.)?\\w+\\.(com|gov)\")\n",
    "matches= pattern.finditer(urls)\n",
    "\n",
    "for i in matches:\n",
    "    print(\"group0     :\",i.group(0))\n",
    "    \n",
    "    \n",
    "pattern= re.compile(r\"https?:+//(www\\.)?\\w+\\.(com|gov)\")\n",
    "matches= pattern.finditer(urls)\n",
    "for i in matches:\n",
    "    print(\"group1     :\",i.group(1,2))#othervize it retrives the other groups"
   ]
  },
  {
   "cell_type": "markdown",
   "id": "3b8be95e",
   "metadata": {},
   "source": [
    "# sub "
   ]
  },
  {
   "cell_type": "code",
   "execution_count": 62,
   "id": "d97c0db6",
   "metadata": {},
   "outputs": [
    {
     "name": "stdout",
     "output_type": "stream",
     "text": [
      "sub_      : \n",
      "www.com\n",
      "com\n",
      "com\n",
      "www.gov\n",
      "\n"
     ]
    }
   ],
   "source": [
    "pattern= re.compile(r\"https?:+//(www\\.)?\\w+\\.(com|gov)\")          \n",
    "sub_= pattern.sub(r'\\1\\2',urls)\n",
    "\n",
    "print(\"sub_      :\",sub_)"
   ]
  },
  {
   "cell_type": "markdown",
   "id": "853d18f2",
   "metadata": {},
   "source": [
    "# Flags      "
   ]
  },
  {
   "cell_type": "markdown",
   "id": "17e390ae",
   "metadata": {},
   "source": [
    "###### flags are used to do some specific tasks like ignoring case"
   ]
  },
  {
   "cell_type": "code",
   "execution_count": 63,
   "id": "c1e95319",
   "metadata": {},
   "outputs": [
    {
     "name": "stdout",
     "output_type": "stream",
     "text": [
      "Smith\n"
     ]
    }
   ],
   "source": [
    "text_to_search = '''\n",
    "abcdefghijklmnopqurtuvwxyz\n",
    "ABCDEFGHIJKLMNOPQRSTUVWXYZ\n",
    "1234567890\n",
    "\n",
    "Ha HaHa\n",
    "\n",
    "MetaCharacters (Need to be escaped):\n",
    ". ^ $ * + ? { } [ ] \\ | ( )\n",
    "\n",
    "coreyms.com\n",
    "\n",
    "321-555-4321\n",
    "123.555.1234\n",
    "123*555*1234\n",
    "800-555-1234\n",
    "900-555-1234\n",
    "\n",
    "Mr. Schafer\n",
    "Mr Smith\n",
    "Ms Davis\n",
    "Mrs. Robinson\n",
    "Mr. T\n",
    "Mis. K\n",
    "\n",
    "Cat \n",
    "Mat \n",
    "Pat\n",
    "\n",
    "'''\n",
    "pattern= re.compile(r'smith',re.IGNORECASE)   #it ignores the case wheather it can be upper or lower\n",
    "matches = pattern.findall(text_to_search)\n",
    "\n",
    "\n",
    "for i in matches:\n",
    "    print(i)"
   ]
  },
  {
   "cell_type": "code",
   "execution_count": null,
   "id": "391a6e6c",
   "metadata": {},
   "outputs": [],
   "source": []
  }
 ],
 "metadata": {
  "kernelspec": {
   "display_name": "Python 3 (ipykernel)",
   "language": "python",
   "name": "python3"
  },
  "language_info": {
   "codemirror_mode": {
    "name": "ipython",
    "version": 3
   },
   "file_extension": ".py",
   "mimetype": "text/x-python",
   "name": "python",
   "nbconvert_exporter": "python",
   "pygments_lexer": "ipython3",
   "version": "3.11.4"
  }
 },
 "nbformat": 4,
 "nbformat_minor": 5
}
